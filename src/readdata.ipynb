{
 "cells": [
  {
   "cell_type": "code",
   "execution_count": 22,
   "id": "f9d7ac2c",
   "metadata": {},
   "outputs": [
    {
     "name": "stdout",
     "output_type": "stream",
     "text": [
      "[14, 2, 6, 8, 12, 15, 7, 13, 13, 4, 8, 5, 4, 1, 11, 9, 10, 5, 14, 12, 15, 1, 9, 7, 2, 11, 3, 10, 6, 3]\n"
     ]
    }
   ],
   "source": [
    "import numpy as np\n",
    "import matplotlib.image as mpimg\n",
    "import os\n",
    "\n",
    "def read_images(images_dir):\n",
    "    images = np.array([mpimg.imread(images_dir+str(file)).reshape(-1) \n",
    "                       for file in os.listdir(images_dir) if file.endswith(\".pgm\")])\n",
    "    labels = []\n",
    "    for file in os.listdir(images_dir):\n",
    "        labels.append(int(file[7:9]))\n",
    "        \n",
    "    return images, labels\n",
    "images, labels = read_images('../Yale_Face_Database/Testing/')\n",
    "\n",
    "if __name__ == '__main__':\n",
    "    print(labels)"
   ]
  },
  {
   "cell_type": "code",
   "execution_count": 50,
   "id": "95bd9a75",
   "metadata": {},
   "outputs": [],
   "source": [
    "def read_images_inorder(path):\n",
    "    ff = []\n",
    "    for file in os.listdir(path):\n",
    "        ff.append(file)\n",
    "    images = np.array([mpimg.imread(path+str(file)).reshape(-1) for file in sorted(ff)])\n",
    "    labels = []\n",
    "    for file in sorted(ff):\n",
    "        labels.append(int(file[7:9]))\n",
    "    return images, labels\n",
    "# read_images_inorder('../Yale_Face_Database/Training/')\n",
    "testimages, labels = read_images_inorder('../Yale_Face_Database/Training/')"
   ]
  },
  {
   "cell_type": "code",
   "execution_count": 51,
   "id": "a7a11d1d",
   "metadata": {},
   "outputs": [
    {
     "name": "stdout",
     "output_type": "stream",
     "text": [
      "[1, 1, 1, 1, 1, 1, 1, 1, 1, 2, 2, 2, 2, 2, 2, 2, 2, 2, 3, 3, 3, 3, 3, 3, 3, 3, 3, 4, 4, 4, 4, 4, 4, 4, 4, 4, 5, 5, 5, 5, 5, 5, 5, 5, 5, 6, 6, 6, 6, 6, 6, 6, 6, 6, 7, 7, 7, 7, 7, 7, 7, 7, 7, 8, 8, 8, 8, 8, 8, 8, 8, 8, 9, 9, 9, 9, 9, 9, 9, 9, 9, 10, 10, 10, 10, 10, 10, 10, 10, 10, 11, 11, 11, 11, 11, 11, 11, 11, 11, 12, 12, 12, 12, 12, 12, 12, 12, 12, 13, 13, 13, 13, 13, 13, 13, 13, 13, 14, 14, 14, 14, 14, 14, 14, 14, 14, 15, 15, 15, 15, 15, 15, 15, 15, 15]\n"
     ]
    }
   ],
   "source": [
    "print(labels)"
   ]
  },
  {
   "cell_type": "code",
   "execution_count": null,
   "id": "bcf5b41f",
   "metadata": {},
   "outputs": [],
   "source": []
  },
  {
   "cell_type": "code",
   "execution_count": null,
   "id": "0874a456",
   "metadata": {},
   "outputs": [],
   "source": []
  }
 ],
 "metadata": {
  "kernelspec": {
   "display_name": "Python 3",
   "language": "python",
   "name": "python3"
  },
  "language_info": {
   "codemirror_mode": {
    "name": "ipython",
    "version": 3
   },
   "file_extension": ".py",
   "mimetype": "text/x-python",
   "name": "python",
   "nbconvert_exporter": "python",
   "pygments_lexer": "ipython3",
   "version": "3.8.2"
  }
 },
 "nbformat": 4,
 "nbformat_minor": 5
}
