{
 "cells": [
  {
   "cell_type": "code",
   "execution_count": 1,
   "id": "be8d86d8",
   "metadata": {},
   "outputs": [],
   "source": [
    "from readdata import read_images_in\n",
    "import numpy as np\n",
    "import matplotlib.pyplot as plt\n",
    "from scipy.spatial.distance import pdist, cdist\n",
    "\n",
    "training_data, training_labels = read_images('../Yale_Face_Database/Training/')\n",
    "testing_data, testing_labels = read_images('../Yale_Face_Database/Testing/')"
   ]
  },
  {
   "cell_type": "code",
   "execution_count": 2,
   "id": "ae5cbc2e",
   "metadata": {},
   "outputs": [],
   "source": [
    "def get_A(data):\n",
    "    # A.T @ A equals to np.cov()\n",
    "    data_ = np.array(data)\n",
    "    mean = np.mean(data_,axis=1)\n",
    "    A = np.array([i-j for (i,j) in zip(data_, mean)])\n",
    "    A /= np.sqrt(np.size(data_,axis=1)-1)\n",
    "    return A.T"
   ]
  },
  {
   "cell_type": "code",
   "execution_count": 42,
   "id": "03a30896",
   "metadata": {},
   "outputs": [],
   "source": [
    "def get_between_class_discrimination(training_data):\n",
    "    clustered_traind = training_data.reshape(15,9,45045)\n",
    "\n",
    "    diff_btw_clus_traind = []\n",
    "    for i in range(0, 15):\n",
    "        for j in range(i+1, 15):\n",
    "            diff_btw_clus_traind.append(clustered_traind[i] - clustered_traind[j])\n",
    "    diff_btw_clus_traind = np.array(diff_btw_clus_traind)\n",
    "\n",
    "#     print(diff_btw_clus_traind.shape)\n",
    "\n",
    "    SB = np.zeros((9,9))\n",
    "    A = np.zeros((45045,9))\n",
    "    \n",
    "#     for i in range(105):\n",
    "#         SB += np.cov(diff_btw_clus_traind[i])\n",
    "\n",
    "    for i in range(105):\n",
    "        tmpA = get_A(diff_btw_clus_traind[i])\n",
    "        A += tmpA\n",
    "        SB += tmpA.T @ tmpA\n",
    "        \n",
    "    return SB, A"
   ]
  },
  {
   "cell_type": "code",
   "execution_count": 43,
   "id": "0c63c57f",
   "metadata": {},
   "outputs": [],
   "source": [
    "SB, SB_A = get_between_class_discrimination(training_data)\n",
    "# SB : (105, 9, 45045)"
   ]
  },
  {
   "cell_type": "code",
   "execution_count": 44,
   "id": "32c1b61a",
   "metadata": {},
   "outputs": [
    {
     "name": "stdout",
     "output_type": "stream",
     "text": [
      "(9, 9)\n"
     ]
    }
   ],
   "source": [
    "print(SB.shape)"
   ]
  },
  {
   "cell_type": "code",
   "execution_count": 45,
   "id": "83d3dee8",
   "metadata": {},
   "outputs": [],
   "source": [
    "def get_inner_class_discrimination(training_data):\n",
    "    clustered_traind = training_data.reshape(15,9,45045)\n",
    "    SW = np.zeros((9,9))\n",
    "#     for i in range(15):\n",
    "#         SW += np.cov(clustered_traind[i])\n",
    "    A = np.zeros((45045,9))\n",
    "    for i in range(15):\n",
    "        tmpA = get_A(clustered_traind[i])\n",
    "        A += tmpA\n",
    "        SW += tmpA.T @ tmpA\n",
    "        \n",
    "    return SW, A"
   ]
  },
  {
   "cell_type": "code",
   "execution_count": 46,
   "id": "68b9a508",
   "metadata": {},
   "outputs": [],
   "source": [
    "SW, SW_A = get_inner_class_discrimination(training_data)"
   ]
  },
  {
   "cell_type": "code",
   "execution_count": 47,
   "id": "5f27c945",
   "metadata": {},
   "outputs": [
    {
     "name": "stdout",
     "output_type": "stream",
     "text": [
      "(9, 9)\n"
     ]
    }
   ],
   "source": [
    "print(SW.shape)"
   ]
  },
  {
   "cell_type": "code",
   "execution_count": 48,
   "id": "40bdced2",
   "metadata": {},
   "outputs": [
    {
     "name": "stdout",
     "output_type": "stream",
     "text": [
      "[[7.69221059 8.12111344 6.4457475  ... 8.5268853  8.56733934 8.4975567 ]\n",
      " [7.69221059 8.24833049 6.45045924 ... 8.5268853  8.53435714 8.61063852]\n",
      " [7.69221059 8.30958313 6.45988273 ... 8.51746181 8.42598707 8.58707981]\n",
      " ...\n",
      " [4.78035388 6.36834533 4.74952029 ... 7.49501375 5.12776749 4.94490305]\n",
      " [4.69083078 6.36834533 4.79663771 ... 7.65050124 4.80265728 5.14279622]\n",
      " [4.66727207 6.02909988 4.64586196 ... 7.56568988 4.8827569  5.62339393]]\n"
     ]
    }
   ],
   "source": [
    "print(SW_A)"
   ]
  },
  {
   "cell_type": "code",
   "execution_count": 51,
   "id": "38363383",
   "metadata": {},
   "outputs": [
    {
     "name": "stdout",
     "output_type": "stream",
     "text": [
      "(45045, 9)\n"
     ]
    }
   ],
   "source": [
    "A_BovW = SB_A/SW_A\n",
    "print(A_BovW.shape)"
   ]
  },
  {
   "cell_type": "code",
   "execution_count": 27,
   "id": "d2f1a7fb",
   "metadata": {},
   "outputs": [],
   "source": [
    "# C = A @ A.T\n",
    "\n",
    "# sort\n",
    "vals , vecs = np.linalg.eig(np.linalg.inv(SW)@SB)\n",
    "vecs = vecs[:,np.argsort(vals)]\n",
    "vals = vals[np.argsort(vals)]\n",
    "vecs = np.flip(vecs,axis=0)\n",
    "vals = np.flip(vals)"
   ]
  },
  {
   "cell_type": "code",
   "execution_count": 52,
   "id": "bacea52a",
   "metadata": {},
   "outputs": [],
   "source": [
    "v = A_BovW @ vecs[0]"
   ]
  },
  {
   "cell_type": "code",
   "execution_count": 53,
   "id": "7d4c89ac",
   "metadata": {},
   "outputs": [
    {
     "name": "stdout",
     "output_type": "stream",
     "text": [
      "(45045,)\n"
     ]
    }
   ],
   "source": [
    "print(v.shape)"
   ]
  },
  {
   "cell_type": "code",
   "execution_count": 54,
   "id": "e6e45abe",
   "metadata": {},
   "outputs": [],
   "source": [
    "def get_projected(xs,y):\n",
    "    # projected x onto y\n",
    "    # xs contains serveral x, projected x onto y, and return ys\n",
    "    xs_ = np.array(xs)\n",
    "    y_norm = np.dot(y,y)\n",
    "    for x in xs_:\n",
    "        x = y * np.dot(x,y) / y_norm\n",
    "    return xs_\n",
    "\n",
    "def k_nearest_neighbor(dists, k, training_labels):\n",
    "    # dist: distance toward every other points\n",
    "    # we only utilize (training_points, testing_points) pair\n",
    "    # spanned by test_num X training_num\n",
    "    label = np.array(training_labels)\n",
    "    test_label = []\n",
    "    for test_points in dists:\n",
    "        idx = np.argpartition(test_points, k)\n",
    "        test_label.append( np.argmax( np.bincount( label[idx[:k]] )))\n",
    "    return test_label"
   ]
  },
  {
   "cell_type": "code",
   "execution_count": 56,
   "id": "c278d2ba",
   "metadata": {},
   "outputs": [],
   "source": [
    "# train_projected = get_projected(training_data, v) + get_projected(training_data, v2) + get_projected(training_data, v3)\n",
    "# test_projected = get_projected(testing_data, v) + get_projected(testing_data, v2) + get_projected(testing_data, v3)\n",
    "\n",
    "train_projected = get_projected(training_data, v)\n",
    "test_projected = get_projected(testing_data, v)\n",
    "\n",
    "# calculate the distance between each [training data points], [testing data points] pair\n",
    "dist_testXtrain = cdist(test_projected, train_projected)\n",
    "\n",
    "# test_label = k_nearest_neighbor(dist_testXtrain, 8, training_labels)"
   ]
  },
  {
   "cell_type": "code",
   "execution_count": 57,
   "id": "863afce6",
   "metadata": {},
   "outputs": [
    {
     "name": "stdout",
     "output_type": "stream",
     "text": [
      "[26, 25, 25, 24, 26, 25, 26, 24, 23, 24, 24, 24, 26, 26, 23, 23, 22, 23, 20, 22, 20, 19, 21, 19, 19, 19, 17, 18, 18, 18, 17, 14, 14, 14, 14, 14, 14, 13, 13, 13, 13, 13, 12, 13, 12, 11, 11, 11, 12, 12, 12, 13, 14, 13, 12, 12, 12, 12, 12, 12, 12, 12, 12, 12, 12, 12, 11, 11, 9, 9, 8, 7, 7, 7, 7, 8, 8, 8, 7, 7, 7, 7, 7, 6, 6, 6, 5, 6, 8, 8, 9, 9, 8, 7, 7, 7, 7, 7, 8, 8, 8, 9, 9, 9, 7, 6, 6, 6, 5, 4, 4, 4, 4, 4, 4, 4, 3, 2, 2, 1, 1, 1, 1, 2, 2, 3, 2, 2, 2, 2, 2, 2, 2, 2]\n"
     ]
    }
   ],
   "source": [
    "std_label = testing_labels\n",
    "rank_list = []\n",
    "for k in range(1,135):\n",
    "    test_label = k_nearest_neighbor(dist_testXtrain, k, training_labels)\n",
    "    cnt = 0\n",
    "    for i in range(30):\n",
    "        if test_label[i] == std_label[i]:\n",
    "            cnt += 1\n",
    "    rank_list.append(cnt)\n",
    "print(rank_list)"
   ]
  },
  {
   "cell_type": "code",
   "execution_count": null,
   "id": "1ceab6f5",
   "metadata": {},
   "outputs": [],
   "source": []
  },
  {
   "cell_type": "code",
   "execution_count": null,
   "id": "43fe2df7",
   "metadata": {},
   "outputs": [],
   "source": []
  },
  {
   "cell_type": "code",
   "execution_count": null,
   "id": "d0c9f612",
   "metadata": {},
   "outputs": [],
   "source": []
  }
 ],
 "metadata": {
  "kernelspec": {
   "display_name": "Python 3",
   "language": "python",
   "name": "python3"
  },
  "language_info": {
   "codemirror_mode": {
    "name": "ipython",
    "version": 3
   },
   "file_extension": ".py",
   "mimetype": "text/x-python",
   "name": "python",
   "nbconvert_exporter": "python",
   "pygments_lexer": "ipython3",
   "version": "3.8.2"
  }
 },
 "nbformat": 4,
 "nbformat_minor": 5
}
