{
 "cells": [
  {
   "cell_type": "code",
   "execution_count": 5,
   "id": "bfe1d401",
   "metadata": {},
   "outputs": [],
   "source": [
    "from readdata import read_images_inorder\n",
    "import numpy as np\n",
    "import matplotlib.pyplot as plt\n",
    "from scipy.spatial.distance import pdist, cdist\n",
    "\n",
    "training_data, training_labels = read_images('../Yale_Face_Database/Training/')\n",
    "testing_data, testing_labels = read_images('../Yale_Face_Database/Testing/')\n",
    "\n",
    "def get_A(data):\n",
    "    data_ = np.array(data)\n",
    "    mean = np.mean(data_,axis=1)\n",
    "    A = np.array([i-j for (i,j) in zip(data_, mean)])\n",
    "    A /= np.sqrt(np.size(data_,axis=1)-1)\n",
    "    return A.T\n",
    "\n",
    "def get_projected(xs,y):\n",
    "    # projected x onto y\n",
    "    # xs contains serveral x, projected x onto y, and return ys\n",
    "    xs_ = np.array(xs)\n",
    "    y_norm = np.dot(y,y)\n",
    "    for x in xs_:\n",
    "        x = y * np.dot(x,y) / y_norm\n",
    "    return xs_\n",
    "\n",
    "def k_nearest_neighbor(dists, k, training_labels):\n",
    "    # dist: distance toward every other points\n",
    "    # we only utilize (training_points, testing_points) pair\n",
    "    # spanned by test_num X training_num\n",
    "    label = np.array(training_labels)\n",
    "    test_label = []\n",
    "    for test_points in dists:\n",
    "        idx = np.argpartition(test_points, k)\n",
    "        test_label.append( np.argmax( np.bincount( label[idx[:k]] )))\n",
    "    return test_label"
   ]
  },
  {
   "cell_type": "code",
   "execution_count": 38,
   "id": "dcc91b69",
   "metadata": {},
   "outputs": [
    {
     "name": "stdout",
     "output_type": "stream",
     "text": [
      "[-8.42857143 12.57142857 -5.5       ]\n",
      "[14.04982206  6.02135231  7.02491103]\n"
     ]
    }
   ],
   "source": [
    "v = np.array([[3,4,2],[6,1,-8],[7,7,4]])\n",
    "w = np.array([14,6,7])\n",
    "\n",
    "x = np.linalg.solve(v,w)\n",
    "print(x)\n",
    "\n",
    "x1,x2,x3 = proj(v[0],w), proj(v[1],w), proj(v[2],w)\n",
    "\n",
    "print(proj(v[0],w)+proj(v[1],w)+proj(v[2],w))\n"
   ]
  },
  {
   "cell_type": "code",
   "execution_count": 33,
   "id": "7ce552c3",
   "metadata": {},
   "outputs": [
    {
     "name": "stdout",
     "output_type": "stream",
     "text": [
      "[14.  6.  7.]\n",
      "[14.04982206  6.02135231  7.02491103]\n"
     ]
    }
   ],
   "source": [
    "print(v@sol)\n",
    "def proj(x,y):\n",
    "    return y*np.dot(x,y)/np.dot(y,y)\n",
    "print(proj(v[0],w)+proj(v[1],w)+proj(v[2],w))"
   ]
  },
  {
   "cell_type": "code",
   "execution_count": 58,
   "id": "6fc605f1",
   "metadata": {},
   "outputs": [],
   "source": [
    "A = get_A(training_data)\n",
    "\n",
    "# C = A @ A.T\n",
    "\n",
    "# sort\n",
    "vals , vecs = np.linalg.eig(A.T @ A)\n",
    "vecs = vecs[:,np.argsort(vals)]\n",
    "vals = vals[np.argsort(vals)]\n",
    "vecs = np.flip(vecs,axis=0)\n",
    "vals = np.flip(vals)\n",
    "\n",
    "v = A@vecs[0]\n",
    "v2 = A@vecs[1]\n",
    "v3 = A@vecs[2]\n",
    "\n",
    "# method project onto a single eigenvector\n",
    "# train_projected = get_projected(training_data, v)\n",
    "# test_projected = get_projected(testing_data, v)\n",
    "\n",
    "train_projected = get_projected(training_data, v) + get_projected(training_data, v2) + get_projected(training_data, v3)\n",
    "test_projected = get_projected(testing_data, v) + get_projected(testing_data, v2) + get_projected(testing_data, v3)\n",
    "\n",
    "# method project onto eigensapce build from more than two eigen bases\n",
    "# V = vecs[:3].T\n",
    "# train_projected = (np.linalg.inv(V.T@V)@V.T@((training_data@A_tn).T)).T\n",
    "# test_projected = (np.linalg.inv(V.T@V)@V.T@((testing_data@A_tn).T)).T\n",
    "\n",
    "\n",
    "# print(test_projected.shape)\n",
    "\n",
    "# calculate the distance between each [training data points], [testing data points] pair\n",
    "dist_testXtrain = cdist(test_projected, train_projected)\n",
    "\n",
    "\n",
    "# print(dist_testXtrain.shape)\n",
    "\n",
    "test_label = k_nearest_neighbor(dist_testXtrain, 8, training_labels)\n",
    "# print(test_label)"
   ]
  },
  {
   "cell_type": "code",
   "execution_count": 59,
   "id": "e97b6074",
   "metadata": {},
   "outputs": [
    {
     "name": "stdout",
     "output_type": "stream",
     "text": [
      "[26, 25, 25, 26, 27, 28, 27, 28, 28, 27, 25, 25, 26, 26, 26, 25, 24, 23, 23, 22, 22, 22, 22, 22, 22, 22, 20, 20, 20, 20, 20, 20, 19, 19, 20, 20, 20, 20, 19, 19, 19, 19, 19, 17, 17, 17, 17, 17, 17, 16, 14, 14, 13, 11, 10, 10, 10, 10, 10, 10, 9, 9, 9, 9, 9, 9, 9, 9, 9, 9, 9, 10, 9, 8, 8, 8, 8, 7, 7, 7, 7, 7, 7, 7, 7, 7, 7, 6, 6, 6, 6, 6, 6, 6, 7, 6, 5, 5, 5, 6, 6, 6, 6, 6, 5, 5, 4, 4, 5, 5, 4, 4, 4, 4, 4, 4, 4, 4, 3, 3, 3, 3, 3, 3, 3, 2, 2, 2, 2, 2, 2, 2, 2, 2]\n"
     ]
    }
   ],
   "source": [
    "std_label = testing_labels\n",
    "rank_list = []\n",
    "for k in range(1,135):\n",
    "    test_label = k_nearest_neighbor(dist_testXtrain, k, training_labels)\n",
    "    cnt = 0\n",
    "    for i in range(30):\n",
    "        if test_label[i] == std_label[i]:\n",
    "            cnt += 1\n",
    "    rank_list.append(cnt)\n",
    "print(rank_list)"
   ]
  },
  {
   "cell_type": "code",
   "execution_count": null,
   "id": "88a7a5de",
   "metadata": {},
   "outputs": [],
   "source": []
  },
  {
   "cell_type": "code",
   "execution_count": null,
   "id": "d720faf5",
   "metadata": {},
   "outputs": [],
   "source": [
    "plt.imshow(testing_data[5].reshape((231,195)),cmap=plt.cm.gray)"
   ]
  },
  {
   "cell_type": "code",
   "execution_count": 48,
   "id": "60d878da",
   "metadata": {},
   "outputs": [
    {
     "name": "stdout",
     "output_type": "stream",
     "text": [
      "(45045, 135)\n",
      "(30, 135)\n",
      "(30, 135)\n",
      "[23, 23, 23, 23, 23, 23, 23, 23, 23, 22, 21, 22, 20, 22, 22, 22, 20, 18, 17, 16, 17, 17, 17, 16, 17, 16, 17, 16, 16, 14, 13, 12, 10, 9, 9, 9, 10, 11, 10, 10, 10, 10, 10, 9, 8, 7, 7, 7, 7, 7, 8, 8, 7, 7, 7, 8, 6, 6, 5, 5, 5, 4, 4, 4, 4, 4, 4, 4, 4, 4, 3, 3, 3, 3, 3, 3, 3, 3, 3, 2, 2, 2, 2, 2, 2, 2, 2, 2, 2, 3, 3, 2, 2, 2, 2, 2, 2, 2, 2, 2, 2, 2, 3, 3, 3, 4, 4, 4, 4, 4, 3, 3, 3, 3, 3, 3, 3, 3, 3, 3, 3, 3, 3, 3, 3, 3, 3, 3, 3, 3, 3, 3, 3, 2]\n"
     ]
    }
   ],
   "source": [
    "A_tn = get_A(training_data)\n",
    "print(A.shape)\n",
    "\n",
    "# truth:\n",
    "# C = A @ A.T\n",
    "\n",
    "# sort\n",
    "vals , vecs = np.linalg.eig( A_tn.T @ A_tn )\n",
    "vecs = vecs[:,np.argsort(vals)]\n",
    "vals = vals[np.argsort(vals)]\n",
    "vecs = np.flip(vecs,axis=0)\n",
    "vals = np.flip(vals)\n",
    "\n",
    "# v = A.T @ vecs[134] / vals[134]\n",
    "# v = A @ vecs[0] / vals[0]\n",
    "v = vecs[0]\n",
    "train_projected = get_projected(training_data@A_tn, v)\n",
    "\n",
    "test_projected = get_projected(testing_data@A_tn, v)\n",
    "print(test_projected.shape)\n",
    "\n",
    "dist_testXtrain = cdist(test_projected, train_projected)\n",
    "print(dist_testXtrain.shape)\n",
    "\n",
    "# test_label = k_nearest_neighbor(dist_testXtrain, 8, training_labels)\n",
    "# print(test_label)\n",
    "std_label = [14,2,6,8,12,15,7,13,13,4,8,5,4,1,11,9,10,5,14,12,15,1,9,7,2,11,3,10,6,3]\n",
    "rank_list = []\n",
    "for k in range(1,135):\n",
    "    test_label = k_nearest_neighbor(dist_testXtrain, k, training_labels)\n",
    "    cnt = 0\n",
    "    for i in range(30):\n",
    "        if test_label[i] == std_label[i]:\n",
    "            cnt += 1\n",
    "    rank_list.append(cnt)\n",
    "print(rank_list)"
   ]
  },
  {
   "cell_type": "code",
   "execution_count": null,
   "id": "2ee89a2c",
   "metadata": {},
   "outputs": [],
   "source": []
  },
  {
   "cell_type": "code",
   "execution_count": null,
   "id": "48a519d7",
   "metadata": {},
   "outputs": [],
   "source": []
  }
 ],
 "metadata": {
  "kernelspec": {
   "display_name": "Python 3",
   "language": "python",
   "name": "python3"
  },
  "language_info": {
   "codemirror_mode": {
    "name": "ipython",
    "version": 3
   },
   "file_extension": ".py",
   "mimetype": "text/x-python",
   "name": "python",
   "nbconvert_exporter": "python",
   "pygments_lexer": "ipython3",
   "version": "3.8.2"
  }
 },
 "nbformat": 4,
 "nbformat_minor": 5
}
