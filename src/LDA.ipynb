{
 "cells": [
  {
   "cell_type": "code",
   "execution_count": 13,
   "id": "be8d86d8",
   "metadata": {},
   "outputs": [],
   "source": [
    "from readdata import read_images_inorder\n",
    "import numpy as np\n",
    "import matplotlib.pyplot as plt\n",
    "from scipy.spatial.distance import pdist, cdist\n",
    "\n",
    "training_data, training_labels = read_images_inorder('../Yale_Face_Database/Training/')\n",
    "testing_data, testing_labels = read_images_inorder('../Yale_Face_Database/Testing/')"
   ]
  },
  {
   "cell_type": "code",
   "execution_count": 14,
   "id": "ae5cbc2e",
   "metadata": {},
   "outputs": [],
   "source": [
    "def get_A(data):\n",
    "    # A.T @ A equals to np.cov()\n",
    "    data_ = np.array(data)\n",
    "    mean = np.mean(data_,axis=1)\n",
    "    A = np.array([i-j for (i,j) in zip(data_, mean)])\n",
    "    A /= np.sqrt(np.size(data_,axis=1)-1)\n",
    "    return A.T"
   ]
  },
  {
   "cell_type": "code",
   "execution_count": 15,
   "id": "03a30896",
   "metadata": {},
   "outputs": [],
   "source": [
    "def get_between_class_discrimination(training_data):\n",
    "    clustered_traind = training_data.reshape(15,9,45045)\n",
    "\n",
    "    diff_btw_clus_traind = []\n",
    "    for i in range(0, 15):\n",
    "        for j in range(i+1, 15):\n",
    "            diff_btw_clus_traind.append(clustered_traind[i] - clustered_traind[j])\n",
    "    diff_btw_clus_traind = np.array(diff_btw_clus_traind)\n",
    "\n",
    "#     print(diff_btw_clus_traind.shape)\n",
    "\n",
    "    SB = np.zeros((9,9))\n",
    "    A = np.zeros((45045,9))\n",
    "    \n",
    "#     for i in range(105):\n",
    "#         SB += np.cov(diff_btw_clus_traind[i])\n",
    "\n",
    "    for i in range(105):\n",
    "        tmpA = get_A(diff_btw_clus_traind[i])\n",
    "        A += tmpA\n",
    "        SB += tmpA.T @ tmpA\n",
    "        \n",
    "    return SB, A"
   ]
  },
  {
   "cell_type": "code",
   "execution_count": 16,
   "id": "0c63c57f",
   "metadata": {},
   "outputs": [],
   "source": [
    "SB, SB_A = get_between_class_discrimination(training_data)\n",
    "# SB : (105, 9, 45045)"
   ]
  },
  {
   "cell_type": "code",
   "execution_count": 17,
   "id": "32c1b61a",
   "metadata": {},
   "outputs": [
    {
     "name": "stdout",
     "output_type": "stream",
     "text": [
      "(9, 9)\n"
     ]
    }
   ],
   "source": [
    "print(SB.shape)"
   ]
  },
  {
   "cell_type": "code",
   "execution_count": 18,
   "id": "83d3dee8",
   "metadata": {},
   "outputs": [],
   "source": [
    "def get_inner_class_discrimination(training_data):\n",
    "    clustered_traind = training_data.reshape(15,9,45045)\n",
    "    SW = np.zeros((9,9))\n",
    "#     for i in range(15):\n",
    "#         SW += np.cov(clustered_traind[i])\n",
    "    A = np.zeros((45045,9))\n",
    "    for i in range(15):\n",
    "        tmpA = get_A(clustered_traind[i])\n",
    "        A += tmpA\n",
    "        SW += tmpA.T @ tmpA\n",
    "        \n",
    "    return SW, A"
   ]
  },
  {
   "cell_type": "code",
   "execution_count": 19,
   "id": "68b9a508",
   "metadata": {},
   "outputs": [],
   "source": [
    "SW, SW_A = get_inner_class_discrimination(training_data)"
   ]
  },
  {
   "cell_type": "code",
   "execution_count": 20,
   "id": "5f27c945",
   "metadata": {},
   "outputs": [
    {
     "name": "stdout",
     "output_type": "stream",
     "text": [
      "(9, 9)\n"
     ]
    }
   ],
   "source": [
    "print(SW.shape)"
   ]
  },
  {
   "cell_type": "code",
   "execution_count": 21,
   "id": "38363383",
   "metadata": {},
   "outputs": [
    {
     "name": "stdout",
     "output_type": "stream",
     "text": [
      "(45045, 9)\n"
     ]
    }
   ],
   "source": [
    "A_BovW = SB_A/SW_A\n",
    "print(A_BovW.shape)"
   ]
  },
  {
   "cell_type": "code",
   "execution_count": 22,
   "id": "d2f1a7fb",
   "metadata": {},
   "outputs": [],
   "source": [
    "# C = A @ A.T\n",
    "\n",
    "# sort\n",
    "vals , vecs = np.linalg.eig(np.linalg.inv(SW)@SB)\n",
    "vecs = vecs[:,np.argsort(vals)]\n",
    "vals = vals[np.argsort(vals)]\n",
    "vecs = np.flip(vecs,axis=0)\n",
    "vals = np.flip(vals)"
   ]
  },
  {
   "cell_type": "code",
   "execution_count": 23,
   "id": "1f9d5497",
   "metadata": {},
   "outputs": [
    {
     "name": "stdout",
     "output_type": "stream",
     "text": [
      "(45045, 9)\n",
      "(9, 9)\n"
     ]
    }
   ],
   "source": [
    "print(A_BovW.shape)\n",
    "print(vecs.shape)"
   ]
  },
  {
   "cell_type": "code",
   "execution_count": 24,
   "id": "7371f07e",
   "metadata": {},
   "outputs": [],
   "source": [
    "def generate_eigen_faces(A, vecs):\n",
    "    eigenfaces = (A@vecs[:9].T).T\n",
    "    for i in range(9):\n",
    "        plt.imsave(\"../output/eigenfaces/LDA/eigenface\"+str(i)+\".png\", eigenfaces[i].reshape(231,195), cmap=plt.cm.gray)\n",
    "generate_eigen_faces(A_BovW, vecs)"
   ]
  },
  {
   "cell_type": "code",
   "execution_count": 25,
   "id": "bacea52a",
   "metadata": {},
   "outputs": [],
   "source": [
    "v = A_BovW @ vecs[0]\n",
    "v1 = A_BovW @ vecs[1]\n",
    "v2 = A_BovW @ vecs[2]\n",
    "\n",
    "\n"
   ]
  },
  {
   "cell_type": "code",
   "execution_count": 26,
   "id": "7d4c89ac",
   "metadata": {},
   "outputs": [
    {
     "name": "stdout",
     "output_type": "stream",
     "text": [
      "(45045,)\n"
     ]
    }
   ],
   "source": [
    "print(v.shape)"
   ]
  },
  {
   "cell_type": "code",
   "execution_count": 27,
   "id": "e6e45abe",
   "metadata": {},
   "outputs": [],
   "source": [
    "def get_projected(xs,y):\n",
    "    # projected x onto y\n",
    "    # xs contains serveral x, projected x onto y, and return ys\n",
    "    xs_ = np.array(xs)\n",
    "    y_norm = np.dot(y,y)\n",
    "    for x in xs_:\n",
    "        x = y * np.dot(x,y) / y_norm\n",
    "    return xs_\n",
    "\n",
    "def k_nearest_neighbor(dists, k, training_labels):\n",
    "    # dist: distance toward every other points\n",
    "    # we only utilize (training_points, testing_points) pair\n",
    "    # spanned by test_num X training_num\n",
    "    label = np.array(training_labels)\n",
    "    test_label = []\n",
    "    for test_points in dists:\n",
    "        idx = np.argpartition(test_points, k)\n",
    "        test_label.append( np.argmax( np.bincount( label[idx[:k]] )))\n",
    "    return test_label"
   ]
  },
  {
   "cell_type": "code",
   "execution_count": 28,
   "id": "c278d2ba",
   "metadata": {},
   "outputs": [
    {
     "name": "stdout",
     "output_type": "stream",
     "text": [
      "[1, 2, 2, 2, 3, 3, 4, 1, 5, 5, 1, 6, 15, 7, 5, 8, 9, 5, 10, 10, 11, 11, 12, 12, 13, 13, 14, 14, 15, 15]\n"
     ]
    }
   ],
   "source": [
    "# train_projected = get_projected(training_data, v) + get_projected(training_data, v1) + get_projected(training_data, v2)\n",
    "# test_projected = get_projected(testing_data, v) + get_projected(testing_data, v1) + get_projected(testing_data, v2)\n",
    "\n",
    "train_projected = get_projected(training_data, v)\n",
    "test_projected = get_projected(testing_data, v)\n",
    "\n",
    "# calculate the distance between each [training data points], [testing data points] pair\n",
    "dist_testXtrain = cdist(test_projected, train_projected)\n",
    "\n",
    "test_label = k_nearest_neighbor(dist_testXtrain, 8, training_labels)\n",
    "print(test_label)"
   ]
  },
  {
   "cell_type": "code",
   "execution_count": 29,
   "id": "863afce6",
   "metadata": {},
   "outputs": [
    {
     "name": "stdout",
     "output_type": "stream",
     "text": [
      "[26, 25, 25, 24, 26, 25, 26, 24, 23, 24, 24, 24, 26, 26, 23, 23, 22, 23, 20, 22, 20, 19, 21, 19, 19, 19, 17, 18, 18, 18, 17, 14, 14, 14, 14, 14, 14, 13, 13, 13, 13, 13, 12, 13, 12, 11, 11, 11, 12, 12, 12, 13, 14, 13, 12, 12, 12, 12, 12, 12, 12, 12, 12, 12, 12, 12, 11, 11, 9, 9, 8, 7, 7, 7, 7, 8, 8, 8, 7, 7, 7, 7, 7, 6, 6, 6, 5, 6, 8, 8, 9, 9, 8, 7, 7, 7, 7, 7, 8, 8, 8, 9, 9, 9, 7, 6, 6, 6, 5, 4, 4, 4, 4, 4, 4, 4, 3, 2, 2, 1, 1, 1, 1, 2, 2, 3, 2, 2, 2, 2, 2, 2, 2, 2]\n"
     ]
    }
   ],
   "source": [
    "std_label = testing_labels\n",
    "rank_list = []\n",
    "for k in range(1,135):\n",
    "    test_label = k_nearest_neighbor(dist_testXtrain, k, training_labels)\n",
    "    cnt = 0\n",
    "    for i in range(30):\n",
    "        if test_label[i] == std_label[i]:\n",
    "            cnt += 1\n",
    "    rank_list.append(cnt)\n",
    "print(rank_list)"
   ]
  },
  {
   "cell_type": "code",
   "execution_count": 31,
   "id": "9028756f",
   "metadata": {},
   "outputs": [
    {
     "data": {
      "image/png": "[encoded data removed]",
      "text/plain": [
       "<Figure size 432x288 with 1 Axes>"
      ]
     },
     "metadata": {
      "needs_background": "light"
     },
     "output_type": "display_data"
    }
   ],
   "source": [
    "import matplotlib.pyplot as plt\n",
    "\n",
    "plt.plot(np.arange(1,135),rank_list)\n",
    "plt.title('performance of LDA')\n",
    "plt.xlabel('the k value for k-nearest neighbors')\n",
    "plt.ylabel('the number of matches for testing data')\n",
    "plt.show()"
   ]
  },
  {
   "cell_type": "code",
   "execution_count": null,
   "id": "6b8e3234",
   "metadata": {},
   "outputs": [],
   "source": []
  },
  {
   "cell_type": "code",
   "execution_count": 30,
   "id": "1ceab6f5",
   "metadata": {},
   "outputs": [
    {
     "name": "stdout",
     "output_type": "stream",
     "text": [
      "(135, 45045)\n",
      "(45045,)\n",
      "(45045,)\n"
     ]
    },
    {
     "ename": "NameError",
     "evalue": "name 'Vs' is not defined",
     "output_type": "error",
     "traceback": [
      "\u001b[0;31m---------------------------------------------------------------------------\u001b[0m",
      "\u001b[0;31mNameError\u001b[0m                                 Traceback (most recent call last)",
      "\u001b[0;32m<ipython-input-30-1dd721939e1c>\u001b[0m in \u001b[0;36m<module>\u001b[0;34m\u001b[0m\n\u001b[1;32m      2\u001b[0m \u001b[0mprint\u001b[0m\u001b[0;34m(\u001b[0m\u001b[0mv\u001b[0m\u001b[0;34m.\u001b[0m\u001b[0mshape\u001b[0m\u001b[0;34m)\u001b[0m\u001b[0;34m\u001b[0m\u001b[0;34m\u001b[0m\u001b[0m\n\u001b[1;32m      3\u001b[0m \u001b[0mprint\u001b[0m\u001b[0;34m(\u001b[0m\u001b[0mv1\u001b[0m\u001b[0;34m.\u001b[0m\u001b[0mshape\u001b[0m\u001b[0;34m)\u001b[0m\u001b[0;34m\u001b[0m\u001b[0;34m\u001b[0m\u001b[0m\n\u001b[0;32m----> 4\u001b[0;31m \u001b[0mprint\u001b[0m\u001b[0;34m(\u001b[0m\u001b[0mVs\u001b[0m\u001b[0;34m.\u001b[0m\u001b[0mshape\u001b[0m\u001b[0;34m)\u001b[0m\u001b[0;34m\u001b[0m\u001b[0;34m\u001b[0m\u001b[0m\n\u001b[0m\u001b[1;32m      5\u001b[0m \u001b[0mprint\u001b[0m\u001b[0;34m(\u001b[0m\u001b[0;34m)\u001b[0m\u001b[0;34m\u001b[0m\u001b[0;34m\u001b[0m\u001b[0m\n",
      "\u001b[0;31mNameError\u001b[0m: name 'Vs' is not defined"
     ]
    }
   ],
   "source": [
    "print(train_projected.shape)\n",
    "print(v.shape)\n",
    "print(v1.shape)\n",
    "print(Vs.shape)\n",
    "print()"
   ]
  },
  {
   "cell_type": "code",
   "execution_count": null,
   "id": "43fe2df7",
   "metadata": {},
   "outputs": [],
   "source": [
    "v = A_BovW @ vecs[0]\n",
    "v1 = A_BovW @ vecs[1]\n",
    "v2 = A_BovW @ vecs[2]\n",
    "\n",
    "num_eigen = 10\n",
    "\n",
    "Vs = np.zeros((num_eigen, 45045))\n",
    "for i in range(num_eigen):\n",
    "    Vs[i] = A_BovW @ vecs[i] \n",
    "\n",
    "num_project = 10\n",
    "\n",
    "train_projected = np.zeros(135,45045)\n",
    "for i in range(num_project):\n",
    "    train_projected += get_projected(training_data, Vs[i])\n",
    "    test_projected += get_projected(testing_data, Vs[i])\n",
    "# train_projected = get_projected(training_data, v)\n",
    "# test_projected = get_projected(testing_data, v)\n",
    "\n",
    "# calculate the distance between each [training data points], [testing data points] pair\n",
    "dist_testXtrain = cdist(test_projected, train_projected)\n",
    "\n",
    "test_label = k_nearest_neighbor(dist_testXtrain, 8, training_labels)\n",
    "print(test_label)"
   ]
  },
  {
   "cell_type": "code",
   "execution_count": null,
   "id": "d0c9f612",
   "metadata": {},
   "outputs": [],
   "source": [
    "std_label = testing_labels\n",
    "rank_list = []\n",
    "for k in range(1,135):\n",
    "    test_label = k_nearest_neighbor(dist_testXtrain, k, training_labels)\n",
    "    cnt = 0\n",
    "    for i in range(30):\n",
    "        if test_label[i] == std_label[i]:\n",
    "            cnt += 1\n",
    "    rank_list.append(cnt)\n",
    "print(rank_list)"
   ]
  },
  {
   "cell_type": "code",
   "execution_count": null,
   "id": "5b06c1e4",
   "metadata": {},
   "outputs": [],
   "source": []
  }
 ],
 "metadata": {
  "kernelspec": {
   "display_name": "Python 3",
   "language": "python",
   "name": "python3"
  },
  "language_info": {
   "codemirror_mode": {
    "name": "ipython",
    "version": 3
   },
   "file_extension": ".py",
   "mimetype": "text/x-python",
   "name": "python",
   "nbconvert_exporter": "python",
   "pygments_lexer": "ipython3",
   "version": "3.8.2"
  }
 },
 "nbformat": 4,
 "nbformat_minor": 5
}
