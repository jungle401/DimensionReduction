{
 "cells": [
  {
   "cell_type": "code",
   "execution_count": 1,
   "id": "eadfe123",
   "metadata": {},
   "outputs": [],
   "source": [
    "from readdata import read_images\n",
    "import numpy as np\n",
    "import matplotlib.pyplot as plt\n",
    "from scipy.spatial.distance import pdist, cdist"
   ]
  },
  {
   "cell_type": "code",
   "execution_count": 2,
   "id": "24fdf812",
   "metadata": {},
   "outputs": [],
   "source": [
    "testing_data = read_images('../Yale_Face_Database/Testing/')\n",
    "training_data = read_images('../Yale_Face_Database/Training/')"
   ]
  },
  {
   "cell_type": "code",
   "execution_count": 192,
   "id": "f244624e",
   "metadata": {},
   "outputs": [
    {
     "name": "stdout",
     "output_type": "stream",
     "text": [
      "(45045, 135)\n"
     ]
    }
   ],
   "source": [
    "def get_A(data):\n",
    "    data_ = np.array(data)\n",
    "    mean = np.mean(data_,axis=1)\n",
    "    A = np.array([i-j for (i,j) in zip(data_, mean)])\n",
    "    A /= np.sqrt(np.size(data_,axis=1)-1)\n",
    "    return A.T\n",
    "A = get_A(training_data)\n",
    "print(A.shape)"
   ]
  },
  {
   "cell_type": "code",
   "execution_count": 194,
   "id": "561665b9",
   "metadata": {},
   "outputs": [
    {
     "name": "stdout",
     "output_type": "stream",
     "text": [
      "[[2.95238095 0.19047619]\n",
      " [0.19047619 1.23809524]]\n",
      "[[2.95238095 0.19047619]\n",
      " [0.19047619 1.23809524]]\n"
     ]
    }
   ],
   "source": [
    "tt = np.array([[1,4,6,5,3,2,4],[5,4,5,4,3,3,2]])\n",
    "cv = np.cov(tt)\n",
    "kk = get_A(tt).T @ get_A(tt)\n",
    "print(cv)\n",
    "print(kk)"
   ]
  },
  {
   "cell_type": "code",
   "execution_count": 11,
   "id": "34d60b15",
   "metadata": {},
   "outputs": [],
   "source": [
    "C = A @ A.T\n",
    "vals , vecs = np.linalg.eig(C)\n",
    "\n",
    "# sort\n",
    "vecs = vecs[:,np.argsort(vals)]\n",
    "vals = vals[np.argsort(vals)]\n",
    "\n",
    "vecs = np.flip(vecs,axis=0)\n",
    "vals = np.flip(vals)"
   ]
  },
  {
   "cell_type": "code",
   "execution_count": 150,
   "id": "e354d4ce",
   "metadata": {},
   "outputs": [
    {
     "data": {
      "text/plain": [
       "(135, 135)"
      ]
     },
     "execution_count": 150,
     "metadata": {},
     "output_type": "execute_result"
    }
   ],
   "source": [
    "C.shape"
   ]
  },
  {
   "cell_type": "code",
   "execution_count": 171,
   "id": "24302d91",
   "metadata": {},
   "outputs": [
    {
     "name": "stdout",
     "output_type": "stream",
     "text": [
      "(135, 135)\n",
      "(135, 25)\n",
      "(135, 135)\n",
      "(45045,)\n"
     ]
    }
   ],
   "source": [
    "print(C.shape)\n",
    "print(projected.shape)\n",
    "print(vecs.shape)\n",
    "y = A.T @ vecs[0]\n",
    "print(y.shape)\n"
   ]
  },
  {
   "cell_type": "code",
   "execution_count": 172,
   "id": "a9f30f14",
   "metadata": {},
   "outputs": [],
   "source": [
    "# at least generate face projection\n",
    "# this projected is with size 135 x 25\n",
    "    # VoA = training_data @ A.T\n",
    "    # projected = VoA @ vecs[:25].T\n",
    "\n",
    "# now im trying projection\n",
    "# C : 135 x 135\n",
    "# training : 135 x 45045\n",
    "    # projected = C @ vecs[:25].T\n",
    "\n",
    "# new projection policy, project to only the eigenvector with the largest corresponding eigenvalue\n",
    "def get_projected(xs,y):\n",
    "    # projected x onto y\n",
    "    # xs contains serveral x, projected x onto y, and return ys\n",
    "    xs_ = np.array(xs)\n",
    "    y_norm = np.dot(y,y)\n",
    "    for x in xs_:\n",
    "        x = y * np.dot(x,y) / y_norm\n",
    "    return xs_\n",
    "\n",
    "v = A.T @ vecs[0]\n",
    "train_projected = get_projected(training_data, v)"
   ]
  },
  {
   "cell_type": "code",
   "execution_count": 198,
   "id": "491db953",
   "metadata": {},
   "outputs": [
    {
     "name": "stdout",
     "output_type": "stream",
     "text": [
      "(45045, 135)\n"
     ]
    }
   ],
   "source": [
    "print(A.shape)"
   ]
  },
  {
   "cell_type": "code",
   "execution_count": 202,
   "id": "d0444d42",
   "metadata": {},
   "outputs": [
    {
     "name": "stdout",
     "output_type": "stream",
     "text": [
      "(135, 45045)\n"
     ]
    }
   ],
   "source": [
    "print(training_data.shape)"
   ]
  },
  {
   "cell_type": "code",
   "execution_count": 209,
   "id": "c2309c8c",
   "metadata": {},
   "outputs": [
    {
     "name": "stdout",
     "output_type": "stream",
     "text": [
      "(45045, 25)\n",
      "(25, 45045)\n"
     ]
    }
   ],
   "source": [
    "# Adjust the training_data to fit the projection input\n",
    "VoA = training_data @ A\n",
    "projected = VoA @ vecs[:25].T\n",
    "X_pca = training_data.T.dot(projected)\n",
    "print(X_pca.shape)\n",
    "eigenfaces = np.swapaxes(X_pca,0,1)\n",
    "print(eigenfaces.shape)\n",
    "for i in range(10):\n",
    "    plt.imsave(\"../output/reconstruction/LDA/reconstruction\"+str(i)+\".png\", eigenfaces[i].reshape(231,195), cmap=plt.cm.gray)\n",
    "# plt.imshow(eigenfaces[24].reshape((231,195)),cmap=plt.cm.gray)"
   ]
  },
  {
   "cell_type": "code",
   "execution_count": null,
   "id": "a4d3625a",
   "metadata": {},
   "outputs": [],
   "source": []
  },
  {
   "cell_type": "code",
   "execution_count": 174,
   "id": "f5d1e4f7",
   "metadata": {},
   "outputs": [
    {
     "name": "stdout",
     "output_type": "stream",
     "text": [
      "(30, 45045)\n"
     ]
    }
   ],
   "source": [
    "# original test_projected\n",
    "    # test_projected = testing_data @ A.T @ vecs[:25].T\n",
    "    # print(test_projected.shape)\n",
    "\n",
    "# new test_projected\n",
    "    # print(np.cov(testing_data).shape)\n",
    "    # # test_projected = np.cov(testing_data) @ vecs[:25].T\n",
    "    \n",
    "# new projection method, project only onto the first eigenvector v\n",
    "test_projected = get_projected(testing_data, v)\n",
    "print(test_projected.shape)"
   ]
  },
  {
   "cell_type": "code",
   "execution_count": 176,
   "id": "098df277",
   "metadata": {},
   "outputs": [
    {
     "data": {
      "text/plain": [
       "array([[3.31662479, 2.        , 2.        ],\n",
       "       [4.58257569, 4.        , 4.        ]])"
      ]
     },
     "execution_count": 176,
     "metadata": {},
     "output_type": "execute_result"
    }
   ],
   "source": [
    "aa = np.array([[4,3,2,1],[1,2,3,4]])\n",
    "bb = np.array([[3,4,5,1],[3,4,1,2],[3,4,1,2]])\n",
    "cdist(aa,bb)"
   ]
  },
  {
   "cell_type": "code",
   "execution_count": 179,
   "id": "0d2e8767",
   "metadata": {},
   "outputs": [
    {
     "name": "stdout",
     "output_type": "stream",
     "text": [
      "(30, 135)\n"
     ]
    }
   ],
   "source": [
    "dist_testXtrain = cdist(test_projected, train_projected)\n",
    "print(dist_testXtrain.shape)"
   ]
  },
  {
   "cell_type": "code",
   "execution_count": 48,
   "id": "a955a41a",
   "metadata": {},
   "outputs": [
    {
     "name": "stdout",
     "output_type": "stream",
     "text": [
      "[[4 3 2 1]\n",
      " [1 2 3 4]\n",
      " [3 4 5 1]\n",
      " [3 4 1 2]\n",
      " [3 4 1 2]]\n"
     ]
    }
   ],
   "source": [
    "aa = np.array([[4,3,2,1],[1,2,3,4]])\n",
    "bb = np.array([[3,4,5,1],[3,4,1,2],[3,4,1,2]])\n",
    "cc = []\n",
    "for i in aa:\n",
    "    cc.append(i)\n",
    "for i in bb:\n",
    "    cc.append(i)\n",
    "cc = np.array(cc)\n",
    "print(cc)"
   ]
  },
  {
   "cell_type": "code",
   "execution_count": 182,
   "id": "303780e7",
   "metadata": {},
   "outputs": [],
   "source": [
    "def make_symmetric_matrix(lower_list, width):\n",
    "    n = width\n",
    "    M = np.zeros((n,n)) # Initialize nxn matrix\n",
    "    triu = np.triu_indices(n, 1) # Find upper right indices of a triangular nxn matrix\n",
    "    tril = np.tril_indices(n, -1) # Find lower left indices of a triangular nxn matrix\n",
    "    M[triu] = lower_list # Assign list values to upper right matrix\n",
    "    M[tril] = M.T[tril] # Make the matrix symmetric\n",
    "    return M\n",
    "\n",
    "def k_nearest_neighbor(dists, k):\n",
    "    # dists: matrix indicate distance between every points pair\n",
    "    # the first 135 rows are labeled training data points and their distance toward every other points\n",
    "    # we only utilize (training_points, testing_points) pair\n",
    "    label = []\n",
    "    for i in range(1,16):\n",
    "        for j in range(9):\n",
    "            label.append(i)\n",
    "    label = np.array(label)\n",
    "    test_label = []\n",
    "    for test_points in dists:\n",
    "        idx = np.argpartition(test_points, k)\n",
    "        test_label.append( np.argmax( np.bincount( label[idx[:k]] )))\n",
    "    return test_label"
   ]
  },
  {
   "cell_type": "code",
   "execution_count": 185,
   "id": "5e75f0b6",
   "metadata": {},
   "outputs": [],
   "source": [
    "test_label = k_nearest_neighbor(dist_testXtrain, 10)"
   ]
  },
  {
   "cell_type": "code",
   "execution_count": 186,
   "id": "1e1d0954",
   "metadata": {},
   "outputs": [
    {
     "name": "stdout",
     "output_type": "stream",
     "text": [
      "[10, 7, 3, 5, 4, 11, 1, 9, 9, 8, 4, 4, 1, 8, 8, 10, 15, 4, 10, 13, 7, 3, 10, 15, 7, 8, 2, 15, 6, 11]\n"
     ]
    }
   ],
   "source": [
    "print(test_label)"
   ]
  },
  {
   "cell_type": "code",
   "execution_count": 96,
   "id": "d96f33b0",
   "metadata": {},
   "outputs": [
    {
     "name": "stdout",
     "output_type": "stream",
     "text": [
      "[[ 0  1  2  3  4]\n",
      " [ 5  6  7  8  9]\n",
      " [10 11 12 13 14]\n",
      " [15 16 17 18 19]]\n",
      "[[10 11 12]\n",
      " [15 16 17]]\n",
      "[[10 11 12]\n",
      " [15 16 17]]\n"
     ]
    }
   ],
   "source": [
    "tt = np.arange(20).reshape(4,5)\n",
    "print(tt)\n",
    "print(tt[np.ix_([2,3],[0,1,2])])\n",
    "print(tt[np.ix_(np.arange(2,4),np.arange(0,3))])"
   ]
  },
  {
   "cell_type": "code",
   "execution_count": 76,
   "id": "3f38cd4e",
   "metadata": {},
   "outputs": [
    {
     "name": "stdout",
     "output_type": "stream",
     "text": [
      "4\n",
      "5\n"
     ]
    }
   ],
   "source": [
    "ttt = np.array([1,2,3,4,5])\n",
    "for i in ttt[3:]:\n",
    "    print(i)"
   ]
  },
  {
   "cell_type": "code",
   "execution_count": 61,
   "id": "94e228bd",
   "metadata": {},
   "outputs": [],
   "source": [
    "label = []\n",
    "for i in range(1,16):\n",
    "    for j in range(9):\n",
    "        label.append(i)\n"
   ]
  },
  {
   "cell_type": "code",
   "execution_count": 73,
   "id": "07d52cd2",
   "metadata": {},
   "outputs": [
    {
     "name": "stdout",
     "output_type": "stream",
     "text": [
      "6\n"
     ]
    }
   ],
   "source": [
    "label = np.array(label)\n",
    "\n",
    "counts = np.bincount(label[[3,9,7,10,11,54,53,54,56,53,54,53,53]])\n",
    "print(np.argmax(counts))\n"
   ]
  },
  {
   "cell_type": "code",
   "execution_count": 58,
   "id": "34baa1ff",
   "metadata": {},
   "outputs": [
    {
     "name": "stdout",
     "output_type": "stream",
     "text": [
      "[3 0 4 5 1 2]\n",
      "[3 1 2]\n"
     ]
    }
   ],
   "source": [
    "AA = np.array([1, 7,5,3,2,4])\n",
    "k = 3\n",
    "\n",
    "idx = np.argpartition(AA, k)\n",
    "print(idx)\n",
    "print(AA[idx[:k]])"
   ]
  },
  {
   "cell_type": "code",
   "execution_count": 31,
   "id": "4dd6e6a9",
   "metadata": {},
   "outputs": [
    {
     "name": "stdout",
     "output_type": "stream",
     "text": [
      "(135, 135)\n"
     ]
    }
   ],
   "source": [
    "\n",
    "tmp = pdist(projected, 'sqeuclidean')\n",
    "tmp1 = make_symmetric_matrix(tmp,135)\n",
    "print(tmp1.shape)"
   ]
  },
  {
   "cell_type": "code",
   "execution_count": null,
   "id": "df5f5654",
   "metadata": {},
   "outputs": [],
   "source": []
  },
  {
   "cell_type": "code",
   "execution_count": null,
   "id": "e4fa048c",
   "metadata": {},
   "outputs": [],
   "source": [
    "print(projected.shape)"
   ]
  },
  {
   "cell_type": "code",
   "execution_count": null,
   "id": "87d02d54",
   "metadata": {},
   "outputs": [],
   "source": [
    "print((A.T).shape)\n",
    "print(AT_v_s[0].shape)"
   ]
  },
  {
   "cell_type": "code",
   "execution_count": null,
   "id": "55c175c8",
   "metadata": {},
   "outputs": [],
   "source": [
    "\n",
    "v = np.array([np.linalg.solve(A.T, AT_v) for AT_v in AT_v_s])\n",
    "\n"
   ]
  },
  {
   "cell_type": "code",
   "execution_count": null,
   "id": "920a3c6e",
   "metadata": {},
   "outputs": [],
   "source": []
  },
  {
   "cell_type": "code",
   "execution_count": null,
   "id": "9ac32dbe",
   "metadata": {},
   "outputs": [],
   "source": [
    "tmpary = np.array([[1,2,3],[4,5,6]])\n",
    "ary = np.array([i for i in tmpary])\n",
    "print(ary)"
   ]
  },
  {
   "cell_type": "code",
   "execution_count": null,
   "id": "7624757a",
   "metadata": {},
   "outputs": [],
   "source": [
    "print(len(vecs[0]))"
   ]
  },
  {
   "cell_type": "code",
   "execution_count": null,
   "id": "c3357322",
   "metadata": {},
   "outputs": [],
   "source": [
    "print(At_v.shape)"
   ]
  },
  {
   "cell_type": "code",
   "execution_count": null,
   "id": "0c8ddc76",
   "metadata": {},
   "outputs": [],
   "source": [
    "print(C.shape)"
   ]
  },
  {
   "cell_type": "code",
   "execution_count": null,
   "id": "e2e8f2e5",
   "metadata": {},
   "outputs": [],
   "source": [
    "C @ At_v"
   ]
  }
 ],
 "metadata": {
  "kernelspec": {
   "display_name": "Python 3",
   "language": "python",
   "name": "python3"
  },
  "language_info": {
   "codemirror_mode": {
    "name": "ipython",
    "version": 3
   },
   "file_extension": ".py",
   "mimetype": "text/x-python",
   "name": "python",
   "nbconvert_exporter": "python",
   "pygments_lexer": "ipython3",
   "version": "3.8.2"
  }
 },
 "nbformat": 4,
 "nbformat_minor": 5
}
